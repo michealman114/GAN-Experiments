{
  "nbformat": 4,
  "nbformat_minor": 0,
  "metadata": {
    "colab": {
      "name": "GAN.ipynb",
      "provenance": [],
      "collapsed_sections": [],
      "authorship_tag": "ABX9TyOZmZqBQQsJkCIsUdyPidm6",
      "include_colab_link": true
    },
    "kernelspec": {
      "name": "python3",
      "display_name": "Python 3"
    },
    "language_info": {
      "name": "python"
    }
  },
  "cells": [
    {
      "cell_type": "markdown",
      "metadata": {
        "id": "view-in-github",
        "colab_type": "text"
      },
      "source": [
        "<a href=\"https://colab.research.google.com/github/michealman114/GAN-Experiments/blob/main/GAN.ipynb\" target=\"_parent\"><img src=\"https://colab.research.google.com/assets/colab-badge.svg\" alt=\"Open In Colab\"/></a>"
      ]
    },
    {
      "cell_type": "code",
      "execution_count": 1,
      "metadata": {
        "colab": {
          "base_uri": "https://localhost:8080/"
        },
        "id": "StckbXmKrQmz",
        "outputId": "ac3dd7ac-f117-4aec-e819-7eee57a7176b"
      },
      "outputs": [
        {
          "output_type": "stream",
          "name": "stdout",
          "text": [
            "cpu\n"
          ]
        }
      ],
      "source": [
        "import torch\n",
        "import numpy as np\n",
        "device = torch.device('cuda' if torch.cuda.is_available() else 'cpu')\n",
        "print(device)"
      ]
    },
    {
      "cell_type": "code",
      "source": [
        "\"\"\"\n",
        "things to do for GAN\n",
        "generator\n",
        "discriminator\n",
        "\n",
        "loss\n",
        "wasserstein loss\n",
        "loss for discrimnator: d(x) - d(g(r)) where x are real inputs and r is random noise fed into the generator\n",
        "\n",
        "loss for generator: d(g(r)) \n",
        "\n",
        "discriminator tries to maximize the difference between values for generated and real inputs\n",
        "\n",
        "generator tries to maximize the value of generated inputs from the discriminator\n",
        "\"\"\"\n",
        "\n",
        "def discrim_loss(results, labels):\n",
        "  \"\"\"\n",
        "  parameters\n",
        "  loss = average of d(g(r)) - d(x) (negative for minimization)\n",
        "  results: batch_size * 1 tensor\n",
        "  labels: batch_size tensor of labels where 1 is real and 0 is generated\n",
        "\n",
        "  returns:\n",
        "  1 dimensional tensor containing the loss\n",
        "  \"\"\"\n",
        "  real_labels = labels.view(-1, 1)\n",
        "  fake_labels = (1 - labels).view(-1,1)\n",
        "  real = torch.sum(real_labels)\n",
        "  fake = torch.sum(fake_labels)\n",
        "  #print(real_labels)\n",
        "  #print(fake_labels)\n",
        "  return torch.sum(results * fake_labels) / fake - torch.sum(results * real_labels) / real\n",
        "\n",
        "  pass\n",
        "\n",
        "def gen_loss(results, labels):\n",
        "  labels = 1 - labels\n",
        "  labels = labels.view(-1, 1)\n",
        "  gen_labels = torch.sum(labels)\n",
        "  return torch.sum(results * labels) / -gen_labels"
      ],
      "metadata": {
        "id": "mzsFdyzprTQ5"
      },
      "execution_count": 2,
      "outputs": []
    },
    {
      "cell_type": "code",
      "source": [
        "# testing of discrim loss\n",
        "results = torch.rand(5,1)\n",
        "labels = torch.tensor([1,1,0,0,0])\n",
        "print(results)\n",
        "print(labels)\n",
        "print(\"======\")\n",
        "loss = discrim_loss(results, labels)\n",
        "print(loss)\n",
        "print(\"======\")\n",
        "print(gen_loss(results, labels))"
      ],
      "metadata": {
        "colab": {
          "base_uri": "https://localhost:8080/"
        },
        "id": "-pEqYcTqwr5N",
        "outputId": "31aa5249-a8c4-4810-af98-e8051993e7c1"
      },
      "execution_count": 3,
      "outputs": [
        {
          "output_type": "stream",
          "name": "stdout",
          "text": [
            "tensor([[0.0610],\n",
            "        [0.2717],\n",
            "        [0.6023],\n",
            "        [0.5881],\n",
            "        [0.2361]])\n",
            "tensor([1, 1, 0, 0, 0])\n",
            "======\n",
            "tensor(0.3092)\n",
            "======\n",
            "tensor(-0.4755)\n"
          ]
        }
      ]
    },
    {
      "cell_type": "code",
      "source": [
        "import torch.nn as nn\n",
        "\n",
        "class Gen(nn.Module):\n",
        "  # GAN takes an input of noise of size 10 and constructs a 7 bit number in the form of a 7 element tensor\n",
        "  def __init__(self):\n",
        "    super(Gen, self).__init__()\n",
        "    self.net = nn.Sequential(\n",
        "        nn.Linear(10,10),\n",
        "        nn.ReLU(),\n",
        "        nn.Linear(10,7),\n",
        "        nn.Sigmoid()\n",
        "    )\n",
        "  def forward(self, input):\n",
        "    return self.net(input)"
      ],
      "metadata": {
        "id": "K2bq5NmrxBp9"
      },
      "execution_count": 27,
      "outputs": []
    },
    {
      "cell_type": "code",
      "source": [
        "class Discrim(nn.Module):\n",
        "  def __init__(self):\n",
        "    super(Discrim, self).__init__()\n",
        "    self.net = nn.Sequential(\n",
        "        nn.Linear(7,7),\n",
        "        nn.ReLU(),\n",
        "        nn.Linear(7,1),\n",
        "        nn.Sigmoid()\n",
        "    )\n",
        "  def forward(self, input):\n",
        "    return self.net(input)"
      ],
      "metadata": {
        "id": "B8suMBDZ1FMQ"
      },
      "execution_count": 5,
      "outputs": []
    },
    {
      "cell_type": "code",
      "source": [
        "import random\n",
        "def generate_real(num = 20):\n",
        "  inputs = [[int(x) for x in format(2*random.randint(0,63), \"07b\")] for x in range(num)]\n",
        "  \n",
        "  return torch.tensor(inputs)\n",
        "\n",
        "generate_real()"
      ],
      "metadata": {
        "colab": {
          "base_uri": "https://localhost:8080/"
        },
        "id": "IFXN_h5_3hlw",
        "outputId": "7ef45894-46cd-4aa1-b30b-94b38c1ad798"
      },
      "execution_count": 6,
      "outputs": [
        {
          "output_type": "execute_result",
          "data": {
            "text/plain": [
              "tensor([[1, 0, 0, 0, 1, 0, 0],\n",
              "        [0, 1, 1, 1, 0, 1, 0],\n",
              "        [1, 1, 0, 1, 0, 0, 0],\n",
              "        [1, 1, 0, 0, 0, 1, 0],\n",
              "        [1, 0, 0, 1, 1, 0, 0],\n",
              "        [0, 0, 1, 1, 0, 0, 0],\n",
              "        [1, 1, 1, 1, 0, 1, 0],\n",
              "        [1, 0, 0, 1, 1, 1, 0],\n",
              "        [0, 0, 0, 0, 1, 1, 0],\n",
              "        [0, 0, 0, 1, 0, 0, 0],\n",
              "        [0, 0, 1, 1, 0, 1, 0],\n",
              "        [0, 0, 0, 0, 0, 0, 0],\n",
              "        [1, 1, 0, 0, 0, 1, 0],\n",
              "        [1, 1, 1, 1, 0, 1, 0],\n",
              "        [0, 0, 0, 1, 1, 0, 0],\n",
              "        [1, 0, 1, 0, 1, 1, 0],\n",
              "        [0, 0, 0, 1, 1, 1, 0],\n",
              "        [1, 1, 1, 0, 1, 0, 0],\n",
              "        [0, 0, 0, 1, 1, 0, 0],\n",
              "        [1, 1, 0, 1, 0, 1, 0]])"
            ]
          },
          "metadata": {},
          "execution_count": 6
        }
      ]
    },
    {
      "cell_type": "code",
      "source": [
        "from torch import optim\n",
        "from sklearn.utils import shuffle\n",
        "loss_fn = nn.BCELoss()\n",
        "\n",
        "gen1 = Gen()\n",
        "discrim1 = Discrim()\n",
        "\n",
        "def train(num_epochs = 1000):\n",
        "  gen_optim = optim.Adam(gen1.parameters(), lr = 0.001)\n",
        "  discrim_optim = optim.Adam(discrim1.parameters(), lr = 0.001)\n",
        "\n",
        "  for i in range(num_epochs):\n",
        "    noise = torch.rand(200, 10)\n",
        "    generated = gen1.forward(noise)\n",
        "    real = generate_real(200).float()\n",
        "    #data = torch.cat((generated, real)).float()\n",
        "    #print(\"data\",data.shape)\n",
        "    gen_labels = torch.zeros(200,1)\n",
        "    real_labels = torch.ones(200,1)\n",
        "    #print(\"labels\", labels.shape)\n",
        "\n",
        "    #shuffled_data, shuffled_labels = shuffle(data,labels)\n",
        "\n",
        "    #shuffled_labels = torch.flatten(shuffled_labels)\n",
        "\n",
        "    gen_out = discrim1.forward(generated)\n",
        "\n",
        "    #print(out.shape)\n",
        "\n",
        "    gen_optim.zero_grad()\n",
        "    loss1 = loss_fn(gen_out, real_labels)\n",
        "    loss1.backward()\n",
        "    gen_optim.step()\n",
        "\n",
        "    discrim_gen_out = discrim1.forward(generated.detach())\n",
        "\n",
        "    discrim_optim.zero_grad()\n",
        "    loss2 = loss_fn(discrim_gen_out, gen_labels)\n",
        "    #loss2.backward()\n",
        "\n",
        "    discrim_optim.zero_grad()\n",
        "    real_out = discrim1.forward(real)\n",
        "    loss3 = loss_fn(real_out, real_labels)\n",
        "\n",
        "    discrim_training_loss = (loss2 + loss3)/2\n",
        "    \n",
        "    discrim_training_loss.backward()\n",
        "    discrim_optim.step()\n",
        "\n",
        "    if (i%100 == 0):\n",
        "      print(i, loss1.item(), discrim_training_loss.item())\n",
        "    \n",
        "  \n",
        "train()"
      ],
      "metadata": {
        "colab": {
          "base_uri": "https://localhost:8080/"
        },
        "id": "-XRaYWU41hdV",
        "outputId": "61e0b446-6e51-49b4-8937-182f3c8ab1fd"
      },
      "execution_count": 62,
      "outputs": [
        {
          "output_type": "stream",
          "name": "stdout",
          "text": [
            "0 0.5644351840019226 0.6934731602668762\n",
            "100 0.6748547554016113 0.6702186465263367\n",
            "200 0.6960328817367554 0.6507169008255005\n",
            "300 0.7235966324806213 0.6517740488052368\n",
            "400 0.8654548525810242 0.5497804284095764\n",
            "500 0.6368182897567749 0.7707153558731079\n",
            "600 0.801801860332489 0.6415973901748657\n",
            "700 0.5669605135917664 0.7688300013542175\n",
            "800 0.842871904373169 0.6338574290275574\n",
            "900 0.9422860741615295 0.516861081123352\n"
          ]
        }
      ]
    },
    {
      "cell_type": "code",
      "source": [
        "test_input = torch.rand(1,10)\n",
        "print(test_input.numpy())\n",
        "gen1.forward(test_input)"
      ],
      "metadata": {
        "colab": {
          "base_uri": "https://localhost:8080/"
        },
        "id": "-GwjvVoV4kXk",
        "outputId": "6344cdca-bee4-45b7-86cd-d5a7a0d0d8a1"
      },
      "execution_count": 67,
      "outputs": [
        {
          "output_type": "stream",
          "name": "stdout",
          "text": [
            "[[0.23274231 0.6236932  0.9364887  0.9460721  0.26141596 0.40734786\n",
            "  0.7823916  0.01752335 0.92254037 0.93674594]]\n"
          ]
        },
        {
          "output_type": "execute_result",
          "data": {
            "text/plain": [
              "tensor([[4.2565e-02, 9.8760e-01, 9.7553e-01, 9.7356e-01, 1.0326e-02, 1.4891e-02,\n",
              "         5.0155e-05]], grad_fn=<SigmoidBackward0>)"
            ]
          },
          "metadata": {},
          "execution_count": 67
        }
      ]
    },
    {
      "cell_type": "code",
      "source": [
        ""
      ],
      "metadata": {
        "id": "OvbWP3Ct-X_B"
      },
      "execution_count": null,
      "outputs": []
    }
  ]
}